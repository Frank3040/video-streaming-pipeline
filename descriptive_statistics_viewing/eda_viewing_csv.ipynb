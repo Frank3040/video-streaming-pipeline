{
  "cells": [
    {
      "cell_type": "code",
      "execution_count": 1,
      "id": "e4189033",
      "metadata": {
        "id": "e4189033"
      },
      "outputs": [],
      "source": [
        "import pandas as pd\n",
        "import numpy as np\n",
        "import matplotlib.pyplot as plt\n",
        "import seaborn as sns"
      ]
    },
    {
      "cell_type": "code",
      "execution_count": 2,
      "id": "2bf8b4e9",
      "metadata": {
        "colab": {
          "base_uri": "https://localhost:8080/",
          "height": 73
        },
        "id": "2bf8b4e9",
        "outputId": "a2f3dac6-181a-4d1e-b507-705a7b44abe9"
      },
      "outputs": [],
      "source": [
        "\n",
        "df = pd.read_csv('viewing_sessions.csv')"
      ]
    },
    {
      "cell_type": "code",
      "execution_count": 3,
      "id": "655f0b6b",
      "metadata": {
        "colab": {
          "base_uri": "https://localhost:8080/"
        },
        "id": "655f0b6b",
        "outputId": "de132063-9ada-4da8-8056-2c6af04b231d"
      },
      "outputs": [
        {
          "name": "stdout",
          "output_type": "stream",
          "text": [
            "(222785, 8)\n"
          ]
        }
      ],
      "source": [
        "print(df.shape)"
      ]
    },
    {
      "cell_type": "code",
      "execution_count": 4,
      "id": "4e2847ad",
      "metadata": {
        "colab": {
          "base_uri": "https://localhost:8080/"
        },
        "id": "4e2847ad",
        "outputId": "a164b9b3-577a-404a-885f-24da0c0a5e1d"
      },
      "outputs": [
        {
          "name": "stdout",
          "output_type": "stream",
          "text": [
            "  session_id user_id content_id  watch_date  watch_duration_minutes  \\\n",
            "0    S000001   U0001       S001  2024-02-16                       9   \n",
            "1    S000002   U0001       M110  2024-08-06                      30   \n",
            "2    S000003   U0001       S005  2024-03-20                      18   \n",
            "3    S000004   U0001       M105  2024-02-24                      77   \n",
            "4    S000005   U0001       M148  2024-08-18                      47   \n",
            "5    S000006   U0001       M015  2024-01-08                      59   \n",
            "6    S000007   U0001       M038  2024-05-26                     101   \n",
            "7    S000008   U0001       M043  2024-05-17                     118   \n",
            "8    S000009   U0001       S024  2024-08-25                      14   \n",
            "9    S000010   U0001       M021  2024-07-20                     109   \n",
            "\n",
            "   completion_percentage device_type quality_level  \n",
            "0                   18.8     Desktop            4K  \n",
            "1                   23.6    Smart TV            SD  \n",
            "2                   65.3     Desktop            4K  \n",
            "3                   74.4      Mobile            HD  \n",
            "4                   30.1    Smart TV            4K  \n",
            "5                   33.5    Smart TV            SD  \n",
            "6                   63.0      Mobile            SD  \n",
            "7                   88.5      Mobile            HD  \n",
            "8                   31.1      Tablet            HD  \n",
            "9                   74.0    Smart TV            SD  \n"
          ]
        }
      ],
      "source": [
        "print(df.head(10))"
      ]
    },
    {
      "cell_type": "code",
      "execution_count": 5,
      "id": "8fd6a19c",
      "metadata": {
        "colab": {
          "base_uri": "https://localhost:8080/",
          "height": 490
        },
        "id": "8fd6a19c",
        "outputId": "12655312-c427-4d86-e629-0ef58e9a2819"
      },
      "outputs": [
        {
          "data": {
            "text/plain": [
              "user_id\n",
              "U1570    104\n",
              "U0290    104\n",
              "U3477    104\n",
              "U0759    104\n",
              "U1685    104\n",
              "        ... \n",
              "U2727      8\n",
              "U2926      8\n",
              "U2912      8\n",
              "U1085      8\n",
              "U4935      8\n",
              "Name: count, Length: 5000, dtype: int64"
            ]
          },
          "execution_count": 5,
          "metadata": {},
          "output_type": "execute_result"
        }
      ],
      "source": [
        "#Unique values of the \"user_id\" column and their total count for each\n",
        "df[\"user_id\"].value_counts()\n"
      ]
    },
    {
      "cell_type": "code",
      "execution_count": 6,
      "id": "4f15649b",
      "metadata": {
        "colab": {
          "base_uri": "https://localhost:8080/",
          "height": 490
        },
        "id": "4f15649b",
        "outputId": "a65720fa-33ab-4fc3-f1c7-2626be29ef98"
      },
      "outputs": [
        {
          "data": {
            "text/plain": [
              "content_id\n",
              "S040    1321\n",
              "M068    1320\n",
              "S057    1307\n",
              "M031    1306\n",
              "M176    1304\n",
              "        ... \n",
              "M187     516\n",
              "M013     510\n",
              "M161     507\n",
              "S054     498\n",
              "M195     490\n",
              "Name: count, Length: 300, dtype: int64"
            ]
          },
          "execution_count": 6,
          "metadata": {},
          "output_type": "execute_result"
        }
      ],
      "source": [
        "#Unique values of the \"content_id\" column and their total count for each.\n",
        "df[\"content_id\"].value_counts()\n"
      ]
    },
    {
      "cell_type": "code",
      "execution_count": 7,
      "id": "5061dbaf",
      "metadata": {
        "colab": {
          "base_uri": "https://localhost:8080/",
          "height": 272
        },
        "id": "5061dbaf",
        "outputId": "221842fe-adb7-4d93-ca74-db2c97bba5e0"
      },
      "outputs": [
        {
          "data": {
            "text/plain": [
              "device_type\n",
              "Smart TV          79803\n",
              "Mobile            69847\n",
              "Desktop           31329\n",
              "Tablet            31287\n",
              "Gaming Console    10519\n",
              "Name: count, dtype: int64"
            ]
          },
          "execution_count": 7,
          "metadata": {},
          "output_type": "execute_result"
        }
      ],
      "source": [
        "#Unique values of the \"device_type\" column and their total count for each\n",
        "df[\"device_type\"].value_counts()\n"
      ]
    },
    {
      "cell_type": "code",
      "execution_count": 8,
      "id": "62e862bd",
      "metadata": {
        "colab": {
          "base_uri": "https://localhost:8080/",
          "height": 210
        },
        "id": "62e862bd",
        "outputId": "f2cb47e7-4e46-4228-f13e-2f76654796c0"
      },
      "outputs": [
        {
          "data": {
            "text/plain": [
              "quality_level\n",
              "HD    109286\n",
              "4K     62342\n",
              "SD     51157\n",
              "Name: count, dtype: int64"
            ]
          },
          "execution_count": 8,
          "metadata": {},
          "output_type": "execute_result"
        }
      ],
      "source": [
        "#Unique values of the \"quality_level\" column and their total count for each\n",
        "df[\"quality_level\"].value_counts()\n"
      ]
    },
    {
      "cell_type": "code",
      "execution_count": 9,
      "id": "ee8c56ea",
      "metadata": {
        "colab": {
          "base_uri": "https://localhost:8080/"
        },
        "id": "ee8c56ea",
        "outputId": "1ef4956d-2ab7-4dac-9478-54c39e9320ee"
      },
      "outputs": [
        {
          "name": "stdout",
          "output_type": "stream",
          "text": [
            "<class 'pandas.core.frame.DataFrame'>\n",
            "RangeIndex: 222785 entries, 0 to 222784\n",
            "Data columns (total 8 columns):\n",
            " #   Column                  Non-Null Count   Dtype  \n",
            "---  ------                  --------------   -----  \n",
            " 0   session_id              222785 non-null  object \n",
            " 1   user_id                 222785 non-null  object \n",
            " 2   content_id              222785 non-null  object \n",
            " 3   watch_date              222785 non-null  object \n",
            " 4   watch_duration_minutes  222785 non-null  int64  \n",
            " 5   completion_percentage   222785 non-null  float64\n",
            " 6   device_type             222785 non-null  object \n",
            " 7   quality_level           222785 non-null  object \n",
            "dtypes: float64(1), int64(1), object(6)\n",
            "memory usage: 13.6+ MB\n",
            "None\n"
          ]
        }
      ],
      "source": [
        "# Info about Dataframe\n",
        "print(df.info())"
      ]
    },
    {
      "cell_type": "markdown",
      "id": "52eb4b8c",
      "metadata": {
        "id": "52eb4b8c"
      },
      "source": [
        "### 2\\. Handling missing values"
      ]
    },
    {
      "cell_type": "code",
      "execution_count": 10,
      "id": "e2bbeaa4",
      "metadata": {
        "colab": {
          "base_uri": "https://localhost:8080/"
        },
        "id": "e2bbeaa4",
        "outputId": "abfd8c3f-6967-42cb-b20a-a0ab13cc2a4e"
      },
      "outputs": [
        {
          "name": "stdout",
          "output_type": "stream",
          "text": [
            "session_id                0\n",
            "user_id                   0\n",
            "content_id                0\n",
            "watch_date                0\n",
            "watch_duration_minutes    0\n",
            "completion_percentage     0\n",
            "device_type               0\n",
            "quality_level             0\n",
            "dtype: int64\n"
          ]
        }
      ],
      "source": [
        "# Count the number of missing values by column\n",
        "print(df.isnull().sum())"
      ]
    },
    {
      "cell_type": "markdown",
      "id": "9c72c689",
      "metadata": {
        "id": "9c72c689"
      },
      "source": [
        "### 3\\. Dropping duplicate rows"
      ]
    },
    {
      "cell_type": "code",
      "execution_count": 11,
      "id": "3845260e",
      "metadata": {
        "colab": {
          "base_uri": "https://localhost:8080/"
        },
        "id": "3845260e",
        "outputId": "b0c50b9e-7658-4503-cfd7-618700f96697"
      },
      "outputs": [
        {
          "name": "stdout",
          "output_type": "stream",
          "text": [
            "0\n"
          ]
        }
      ],
      "source": [
        "# Count the number of duplicate rows\n",
        "print(df.duplicated().sum())\n"
      ]
    },
    {
      "cell_type": "markdown",
      "id": "0be8b3f5",
      "metadata": {
        "id": "0be8b3f5"
      },
      "source": [
        "### Central tendency"
      ]
    },
    {
      "cell_type": "code",
      "execution_count": 12,
      "id": "fbf57448",
      "metadata": {
        "colab": {
          "base_uri": "https://localhost:8080/",
          "height": 147
        },
        "id": "fbf57448",
        "outputId": "ef1d578b-8a38-4842-f8d0-4efc6da1ebb5"
      },
      "outputs": [
        {
          "data": {
            "text/plain": [
              "watch_duration_minutes    78.907871\n",
              "completion_percentage     78.384990\n",
              "dtype: float64"
            ]
          },
          "execution_count": 12,
          "metadata": {},
          "output_type": "execute_result"
        }
      ],
      "source": [
        "# Mean\n",
        "df[[\"watch_duration_minutes\", \"completion_percentage\"]].mean()\n"
      ]
    },
    {
      "cell_type": "code",
      "execution_count": 13,
      "id": "84c30db8",
      "metadata": {
        "colab": {
          "base_uri": "https://localhost:8080/",
          "height": 147
        },
        "id": "84c30db8",
        "outputId": "9161bf31-28e2-4eb8-b6c4-8ca2ce249f75"
      },
      "outputs": [
        {
          "data": {
            "text/plain": [
              "watch_duration_minutes    79.0\n",
              "completion_percentage     84.5\n",
              "dtype: float64"
            ]
          },
          "execution_count": 13,
          "metadata": {},
          "output_type": "execute_result"
        }
      ],
      "source": [
        "# Median\n",
        "df[[\"watch_duration_minutes\", \"completion_percentage\"]].median()\n"
      ]
    },
    {
      "cell_type": "code",
      "execution_count": 14,
      "id": "cd4239dd",
      "metadata": {
        "colab": {
          "base_uri": "https://localhost:8080/",
          "height": 81
        },
        "id": "cd4239dd",
        "outputId": "c8293c3a-c341-4f34-c144-15365488ee8f"
      },
      "outputs": [
        {
          "data": {
            "text/html": [
              "<div>\n",
              "<style scoped>\n",
              "    .dataframe tbody tr th:only-of-type {\n",
              "        vertical-align: middle;\n",
              "    }\n",
              "\n",
              "    .dataframe tbody tr th {\n",
              "        vertical-align: top;\n",
              "    }\n",
              "\n",
              "    .dataframe thead th {\n",
              "        text-align: right;\n",
              "    }\n",
              "</style>\n",
              "<table border=\"1\" class=\"dataframe\">\n",
              "  <thead>\n",
              "    <tr style=\"text-align: right;\">\n",
              "      <th></th>\n",
              "      <th>watch_duration_minutes</th>\n",
              "      <th>completion_percentage</th>\n",
              "    </tr>\n",
              "  </thead>\n",
              "  <tbody>\n",
              "    <tr>\n",
              "      <th>0</th>\n",
              "      <td>23</td>\n",
              "      <td>100.0</td>\n",
              "    </tr>\n",
              "  </tbody>\n",
              "</table>\n",
              "</div>"
            ],
            "text/plain": [
              "   watch_duration_minutes  completion_percentage\n",
              "0                      23                  100.0"
            ]
          },
          "execution_count": 14,
          "metadata": {},
          "output_type": "execute_result"
        }
      ],
      "source": [
        "# Mode\n",
        "df[[\"watch_duration_minutes\", \"completion_percentage\"]].mode()\n"
      ]
    },
    {
      "cell_type": "markdown",
      "id": "cd0775e9",
      "metadata": {
        "id": "cd0775e9"
      },
      "source": [
        "### Dispersion measures calculation"
      ]
    },
    {
      "cell_type": "code",
      "execution_count": 15,
      "id": "8a5e532f",
      "metadata": {
        "colab": {
          "base_uri": "https://localhost:8080/",
          "height": 147
        },
        "id": "8a5e532f",
        "outputId": "0b42bbac-dbc6-4501-975d-ce92a9d66057"
      },
      "outputs": [
        {
          "data": {
            "text/plain": [
              "watch_duration_minutes    178.0\n",
              "completion_percentage      90.0\n",
              "dtype: float64"
            ]
          },
          "execution_count": 15,
          "metadata": {},
          "output_type": "execute_result"
        }
      ],
      "source": [
        "# Rango (max - min)\n",
        "df[[\"watch_duration_minutes\", \"completion_percentage\"]].max() - df[[\"watch_duration_minutes\", \"completion_percentage\"]].min()\n"
      ]
    },
    {
      "cell_type": "code",
      "execution_count": 16,
      "id": "c1e932b9",
      "metadata": {
        "colab": {
          "base_uri": "https://localhost:8080/",
          "height": 147
        },
        "id": "c1e932b9",
        "outputId": "fb239443-7513-479a-96ef-7258d18e3ec5"
      },
      "outputs": [
        {
          "data": {
            "text/plain": [
              "watch_duration_minutes    2025.638780\n",
              "completion_percentage      460.649707\n",
              "dtype: float64"
            ]
          },
          "execution_count": 16,
          "metadata": {},
          "output_type": "execute_result"
        }
      ],
      "source": [
        "# Varianza\n",
        "df[[\"watch_duration_minutes\", \"completion_percentage\"]].var()\n"
      ]
    },
    {
      "cell_type": "code",
      "execution_count": 17,
      "id": "578eebfb",
      "metadata": {
        "colab": {
          "base_uri": "https://localhost:8080/",
          "height": 147
        },
        "id": "578eebfb",
        "outputId": "906b5399-b959-4f20-c3db-718e65abb1c0"
      },
      "outputs": [
        {
          "data": {
            "text/plain": [
              "watch_duration_minutes    45.007097\n",
              "completion_percentage     21.462752\n",
              "dtype: float64"
            ]
          },
          "execution_count": 17,
          "metadata": {},
          "output_type": "execute_result"
        }
      ],
      "source": [
        "# Desviación estándar\n",
        "df[[\"watch_duration_minutes\", \"completion_percentage\"]].std()\n"
      ]
    },
    {
      "cell_type": "code",
      "execution_count": 18,
      "id": "33cfaade",
      "metadata": {
        "colab": {
          "base_uri": "https://localhost:8080/",
          "height": 147
        },
        "id": "33cfaade",
        "outputId": "b994b7a9-ea62-4cd4-c782-5faef6d43e42"
      },
      "outputs": [
        {
          "data": {
            "text/plain": [
              "watch_duration_minutes    0.570375\n",
              "completion_percentage     0.273812\n",
              "dtype: float64"
            ]
          },
          "execution_count": 18,
          "metadata": {},
          "output_type": "execute_result"
        }
      ],
      "source": [
        "# Coeficiente de variación\n",
        "df[[\"watch_duration_minutes\", \"completion_percentage\"]].std() / df[[\"watch_duration_minutes\", \"completion_percentage\"]].mean()\n"
      ]
    },
    {
      "cell_type": "code",
      "execution_count": 19,
      "id": "aae1bb84",
      "metadata": {
        "colab": {
          "base_uri": "https://localhost:8080/",
          "height": 143
        },
        "id": "aae1bb84",
        "outputId": "e9fbc13c-aaab-4e54-db31-e0ab150079fd"
      },
      "outputs": [
        {
          "data": {
            "text/html": [
              "<div>\n",
              "<style scoped>\n",
              "    .dataframe tbody tr th:only-of-type {\n",
              "        vertical-align: middle;\n",
              "    }\n",
              "\n",
              "    .dataframe tbody tr th {\n",
              "        vertical-align: top;\n",
              "    }\n",
              "\n",
              "    .dataframe thead th {\n",
              "        text-align: right;\n",
              "    }\n",
              "</style>\n",
              "<table border=\"1\" class=\"dataframe\">\n",
              "  <thead>\n",
              "    <tr style=\"text-align: right;\">\n",
              "      <th></th>\n",
              "      <th>watch_duration_minutes</th>\n",
              "      <th>completion_percentage</th>\n",
              "    </tr>\n",
              "  </thead>\n",
              "  <tbody>\n",
              "    <tr>\n",
              "      <th>0.25</th>\n",
              "      <td>37.0</td>\n",
              "      <td>66.3</td>\n",
              "    </tr>\n",
              "    <tr>\n",
              "      <th>0.50</th>\n",
              "      <td>79.0</td>\n",
              "      <td>84.5</td>\n",
              "    </tr>\n",
              "    <tr>\n",
              "      <th>0.75</th>\n",
              "      <td>115.0</td>\n",
              "      <td>96.0</td>\n",
              "    </tr>\n",
              "  </tbody>\n",
              "</table>\n",
              "</div>"
            ],
            "text/plain": [
              "      watch_duration_minutes  completion_percentage\n",
              "0.25                    37.0                   66.3\n",
              "0.50                    79.0                   84.5\n",
              "0.75                   115.0                   96.0"
            ]
          },
          "execution_count": 19,
          "metadata": {},
          "output_type": "execute_result"
        }
      ],
      "source": [
        "# Percentiles\n",
        "df[[\"watch_duration_minutes\", \"completion_percentage\"]].quantile([0.25, 0.5, 0.75])"
      ]
    },
    {
      "cell_type": "code",
      "execution_count": 20,
      "id": "44dd4a42",
      "metadata": {
        "colab": {
          "base_uri": "https://localhost:8080/"
        },
        "id": "44dd4a42",
        "outputId": "43e0a339-fde7-4f88-8381-9909372f91b8"
      },
      "outputs": [
        {
          "name": "stdout",
          "output_type": "stream",
          "text": [
            "watch_duration_minutes    78.0\n",
            "completion_percentage     29.7\n",
            "dtype: float64\n"
          ]
        }
      ],
      "source": [
        "# IQR (Q3 - Q1)\n",
        "Q1 = df[[\"watch_duration_minutes\", \"completion_percentage\"]].quantile(0.25)\n",
        "Q3 = df[[\"watch_duration_minutes\", \"completion_percentage\"]].quantile(0.75)\n",
        "IQR = Q3 - Q1\n",
        "print(IQR)\n"
      ]
    },
    {
      "cell_type": "markdown",
      "id": "26c72661",
      "metadata": {
        "id": "26c72661"
      },
      "source": [
        "### Distribution analysis of key variables"
      ]
    },
    {
      "cell_type": "markdown",
      "id": "f1999f16",
      "metadata": {
        "id": "f1999f16"
      },
      "source": [
        "##### watch_duration_minutes column"
      ]
    },
    {
      "cell_type": "code",
      "execution_count": 21,
      "id": "619cdc34",
      "metadata": {
        "colab": {
          "base_uri": "https://localhost:8080/",
          "height": 959
        },
        "id": "619cdc34",
        "outputId": "3ec670c0-9fe4-4991-aeba-dc965e6dc952"
      },
      "outputs": [
        {
          "data": {
            "image/png": "[encoded data removed]",
            "text/plain": [
              "<Figure size 1200x500 with 1 Axes>"
            ]
          },
          "metadata": {},
          "output_type": "display_data"
        },
        {
          "data": {
            "image/png": "[encoded data removed]",
            "text/plain": [
              "<Figure size 1200x500 with 1 Axes>"
            ]
          },
          "metadata": {},
          "output_type": "display_data"
        }
      ],
      "source": [
        "# Histograms to see distribution\n",
        "plt.figure(figsize=(12,5))\n",
        "\n",
        "plt.subplot(1,2,1)\n",
        "sns.histplot(df['watch_duration_minutes'], bins=20, kde=True, color=\"skyblue\")\n",
        "plt.title(\"Distribution of streaming duration in minutes\")\n",
        "\n",
        "plt.show()\n",
        "\n",
        "# Boxplots to detect outliers\n",
        "plt.figure(figsize=(12,5))\n",
        "\n",
        "plt.subplot(1,2,1)\n",
        "sns.boxplot(x=df['watch_duration_minutes'], color=\"skyblue\")\n",
        "plt.title(\"Streaming duration in minutes\")\n",
        "\n",
        "plt.show()"
      ]
    },
    {
      "cell_type": "markdown",
      "id": "e1fcbd29",
      "metadata": {
        "id": "e1fcbd29"
      },
      "source": [
        "##### completion_percentage column"
      ]
    },
    {
      "cell_type": "code",
      "execution_count": 22,
      "id": "caaefa26",
      "metadata": {
        "colab": {
          "base_uri": "https://localhost:8080/",
          "height": 959
        },
        "id": "caaefa26",
        "outputId": "d11e6d49-0d2e-48d0-a3e5-5830669952b9"
      },
      "outputs": [
        {
          "data": {
            "image/png": "[encoded data removed]",
            "text/plain": [
              "<Figure size 1200x500 with 1 Axes>"
            ]
          },
          "metadata": {},
          "output_type": "display_data"
        },
        {
          "data": {
            "image/png": "[encoded data removed]",
            "text/plain": [
              "<Figure size 1200x500 with 1 Axes>"
            ]
          },
          "metadata": {},
          "output_type": "display_data"
        }
      ],
      "source": [
        "# Histograms to see distribution\n",
        "plt.figure(figsize=(12,5))\n",
        "\n",
        "plt.subplot(1,2,2)\n",
        "sns.histplot(df['completion_percentage'], bins=20, kde=True, color=\"purple\")\n",
        "plt.title(\"Completion percentage\")\n",
        "\n",
        "plt.show()\n",
        "\n",
        "# Boxplots to detect outliers\n",
        "plt.figure(figsize=(12,5))\n",
        "\n",
        "plt.subplot(1,2,2)\n",
        "sns.boxplot(x=df['completion_percentage'], color=\"purple\")\n",
        "plt.title(\"Completion Percentage\")\n",
        "\n",
        "plt.show()"
      ]
    },
    {
      "cell_type": "markdown",
      "id": "03641118",
      "metadata": {
        "id": "03641118"
      },
      "source": [
        "### Outliers"
      ]
    },
    {
      "cell_type": "markdown",
      "id": "bb885498",
      "metadata": {
        "id": "bb885498"
      },
      "source": [
        "We chose to separate the outliers from the \"viewing.csv\" dataframe, creating one dataframe with all the outliers and another without them. This was done to avoid deleting them, as they might provide valuable insight into the behavior of that part of the sample."
      ]
    },
    {
      "cell_type": "markdown",
      "id": "5eda2f4c",
      "metadata": {
        "id": "5eda2f4c"
      },
      "source": [
        "### Calculate outliers with the \"completion_percentage\" column."
      ]
    },
    {
      "cell_type": "code",
      "execution_count": 23,
      "id": "1cc188e3",
      "metadata": {
        "colab": {
          "base_uri": "https://localhost:8080/"
        },
        "id": "1cc188e3",
        "outputId": "fb893680-bff2-4686-ab92-60f839f3dc81"
      },
      "outputs": [
        {
          "name": "stdout",
          "output_type": "stream",
          "text": [
            "Lower bound: 21.749999999999993\n",
            "Upper bound: 140.55\n",
            "Number of outliers: 6182\n",
            "    session_id content_id  watch_duration_minutes  completion_percentage\n",
            "0      S000001       S001                       9                   18.8\n",
            "51     S000052       M198                      19                   20.5\n",
            "84     S000085       M188                      19                   17.3\n",
            "91     S000092       S097                       6                   16.3\n",
            "139    S000140       M150                      16                   13.9\n",
            "143    S000144       S018                       5                   14.9\n",
            "211    S000212       S033                       4                   15.6\n",
            "234    S000235       M025                      22                   14.0\n",
            "235    S000236       M073                      26                   18.7\n",
            "271    S000272       M026                      27                   16.8\n",
            "305    S000306       M136                      15                   15.2\n",
            "324    S000325       M134                      13                   10.0\n"
          ]
        }
      ],
      "source": [
        "# Calculate Q1 (25%) and Q3 (75%)\n",
        "Q1 = df[\"completion_percentage\"].quantile(0.25)\n",
        "Q3 = df[\"completion_percentage\"].quantile(0.75)\n",
        "IQR = Q3 - Q1\n",
        "\n",
        "# Define the limits to detect outliers\n",
        "lower_bound = Q1 - 1.5 * IQR\n",
        "upper_bound = Q3 + 1.5 * IQR\n",
        "\n",
        "print(\"Lower bound:\", lower_bound)\n",
        "print(\"Upper bound:\", upper_bound)\n",
        "\n",
        "# Filter the outliers\n",
        "outliers = df[(df[\"completion_percentage\"] < lower_bound) |\n",
        "              (df[\"completion_percentage\"] > upper_bound)]\n",
        "\n",
        "print(\"Number of outliers:\", outliers.shape[0])\n",
        "print(outliers[[\"session_id\",\"content_id\", \"watch_duration_minutes\", \"completion_percentage\"]].head(12))"
      ]
    },
    {
      "cell_type": "markdown",
      "id": "bdd66105",
      "metadata": {
        "id": "bdd66105"
      },
      "source": [
        "### Splitting the dataframe into one without outliers and one with only outliers"
      ]
    },
    {
      "cell_type": "code",
      "execution_count": 24,
      "id": "03435df5",
      "metadata": {
        "colab": {
          "base_uri": "https://localhost:8080/"
        },
        "id": "03435df5",
        "outputId": "4c86f1e8-a5f7-45f9-8bb6-9921eb7be9b7"
      },
      "outputs": [
        {
          "name": "stdout",
          "output_type": "stream",
          "text": [
            "Filas totales del dataframe: 222785\n",
            "Filas totales del Dataframe sin outliers: 216603\n",
            "Filas totales del Dataframe con outliers: 6182\n"
          ]
        }
      ],
      "source": [
        "# DataFrame with outliers\n",
        "df_outliers_viewing = df[(df[\"completion_percentage\"] < lower_bound) |\n",
        "                 (df[\"completion_percentage\"] > upper_bound)].copy()\n",
        "\n",
        "# DataFrame whitout outliers \n",
        "df_normal_viewing = df[(df[\"completion_percentage\"] >= lower_bound) &\n",
        "               (df[\"completion_percentage\"] <= upper_bound)].copy()\n",
        "\n",
        "print(\"Filas totales del dataframe:\", df.shape[0])\n",
        "print(\"Filas totales del Dataframe sin outliers:\", df_normal_viewing.shape[0])\n",
        "print(\"Filas totales del Dataframe con outliers:\", df_outliers_viewing.shape[0])\n"
      ]
    },
    {
      "cell_type": "code",
      "execution_count": 30,
      "id": "bdc29256",
      "metadata": {
        "colab": {
          "base_uri": "https://localhost:8080/"
        },
        "id": "bdc29256",
        "outputId": "ddbead8f-684b-4c85-fc48-d0da099c01a5"
      },
      "outputs": [
        {
          "name": "stdout",
          "output_type": "stream",
          "text": [
            "\n",
            " Files saved as 'df_viewing_normal.csv' and 'df_viewing_outlier.csv'\n"
          ]
        }
      ],
      "source": [
        "# Save the dataframe\n",
        "df_normal_viewing.to_csv(\"df_viewing_normal.csv\", index=False)\n",
        "df_outliers_viewing.to_csv(\"df_viewing_outlier.csv\", index=False)\n",
        "\n",
        "print(\"\\n Files saved as 'df_viewing_normal.csv' and 'df_viewing_outlier.csv'\")"
      ]
    },
    {
      "cell_type": "markdown",
      "id": "b9567c51",
      "metadata": {
        "id": "b9567c51"
      },
      "source": [
        "### Calculation of central mean and standard deviation with the new dataset without outliers"
      ]
    },
    {
      "cell_type": "code",
      "execution_count": 25,
      "id": "e9afb73a",
      "metadata": {
        "id": "e9afb73a"
      },
      "outputs": [],
      "source": [
        "df_normal_viewing = pd.read_csv('df_viewing_normal.csv')"
      ]
    },
    {
      "cell_type": "markdown",
      "id": "336237ea",
      "metadata": {
        "id": "336237ea"
      },
      "source": [
        "#### Calculation of central tendency"
      ]
    },
    {
      "cell_type": "code",
      "execution_count": 26,
      "id": "f9fd13cd",
      "metadata": {
        "colab": {
          "base_uri": "https://localhost:8080/",
          "height": 147
        },
        "id": "f9fd13cd",
        "outputId": "a84f941a-0407-46ed-ad0e-e110d9c9efd8"
      },
      "outputs": [
        {
          "data": {
            "text/plain": [
              "watch_duration_minutes    80.695992\n",
              "completion_percentage     80.160902\n",
              "dtype: float64"
            ]
          },
          "execution_count": 26,
          "metadata": {},
          "output_type": "execute_result"
        }
      ],
      "source": [
        "# Mean\n",
        "df_normal_viewing[[\"watch_duration_minutes\", \"completion_percentage\"]].mean()\n"
      ]
    },
    {
      "cell_type": "code",
      "execution_count": 27,
      "id": "8b2122f1",
      "metadata": {
        "colab": {
          "base_uri": "https://localhost:8080/",
          "height": 147
        },
        "id": "8b2122f1",
        "outputId": "6e51bf57-0d50-4425-f8a1-88e0d9b4e558"
      },
      "outputs": [
        {
          "data": {
            "text/plain": [
              "watch_duration_minutes    81.0\n",
              "completion_percentage     85.2\n",
              "dtype: float64"
            ]
          },
          "execution_count": 27,
          "metadata": {},
          "output_type": "execute_result"
        }
      ],
      "source": [
        "# Median\n",
        "df_normal_viewing[[\"watch_duration_minutes\", \"completion_percentage\"]].median()\n"
      ]
    },
    {
      "cell_type": "code",
      "execution_count": 28,
      "id": "807e11f8",
      "metadata": {
        "colab": {
          "base_uri": "https://localhost:8080/",
          "height": 81
        },
        "id": "807e11f8",
        "outputId": "bf013ce3-97f9-443c-dcf3-37b22c3076b9"
      },
      "outputs": [
        {
          "data": {
            "text/html": [
              "<div>\n",
              "<style scoped>\n",
              "    .dataframe tbody tr th:only-of-type {\n",
              "        vertical-align: middle;\n",
              "    }\n",
              "\n",
              "    .dataframe tbody tr th {\n",
              "        vertical-align: top;\n",
              "    }\n",
              "\n",
              "    .dataframe thead th {\n",
              "        text-align: right;\n",
              "    }\n",
              "</style>\n",
              "<table border=\"1\" class=\"dataframe\">\n",
              "  <thead>\n",
              "    <tr style=\"text-align: right;\">\n",
              "      <th></th>\n",
              "      <th>watch_duration_minutes</th>\n",
              "      <th>completion_percentage</th>\n",
              "    </tr>\n",
              "  </thead>\n",
              "  <tbody>\n",
              "    <tr>\n",
              "      <th>0</th>\n",
              "      <td>23</td>\n",
              "      <td>100.0</td>\n",
              "    </tr>\n",
              "  </tbody>\n",
              "</table>\n",
              "</div>"
            ],
            "text/plain": [
              "   watch_duration_minutes  completion_percentage\n",
              "0                      23                  100.0"
            ]
          },
          "execution_count": 28,
          "metadata": {},
          "output_type": "execute_result"
        }
      ],
      "source": [
        "# Mode\n",
        "df_normal_viewing[[\"watch_duration_minutes\", \"completion_percentage\"]].mode()\n"
      ]
    },
    {
      "cell_type": "markdown",
      "id": "8d60a2af",
      "metadata": {
        "id": "8d60a2af"
      },
      "source": [
        "##### Dispersion measures calculation"
      ]
    },
    {
      "cell_type": "code",
      "execution_count": 29,
      "id": "4b77c884",
      "metadata": {
        "colab": {
          "base_uri": "https://localhost:8080/",
          "height": 147
        },
        "id": "4b77c884",
        "outputId": "74da8261-60be-4201-e203-edb8ead3aca4"
      },
      "outputs": [
        {
          "data": {
            "text/plain": [
              "watch_duration_minutes    176.0\n",
              "completion_percentage      78.2\n",
              "dtype: float64"
            ]
          },
          "execution_count": 29,
          "metadata": {},
          "output_type": "execute_result"
        }
      ],
      "source": [
        "# Rango (max - min)\n",
        "df_normal_viewing[[\"watch_duration_minutes\", \"completion_percentage\"]].max() - df_normal_viewing[[\"watch_duration_minutes\", \"completion_percentage\"]].min()"
      ]
    },
    {
      "cell_type": "code",
      "execution_count": 30,
      "id": "5525e4c1",
      "metadata": {
        "colab": {
          "base_uri": "https://localhost:8080/",
          "height": 147
        },
        "id": "5525e4c1",
        "outputId": "c9fb7f38-977c-4b3f-c6fe-684ac5105695"
      },
      "outputs": [
        {
          "data": {
            "text/plain": [
              "watch_duration_minutes    1966.071977\n",
              "completion_percentage      359.826305\n",
              "dtype: float64"
            ]
          },
          "execution_count": 30,
          "metadata": {},
          "output_type": "execute_result"
        }
      ],
      "source": [
        "# Varianza\n",
        "df_normal_viewing[[\"watch_duration_minutes\", \"completion_percentage\"]].var()"
      ]
    },
    {
      "cell_type": "code",
      "execution_count": 31,
      "id": "1c58a4e8",
      "metadata": {
        "colab": {
          "base_uri": "https://localhost:8080/",
          "height": 147
        },
        "id": "1c58a4e8",
        "outputId": "16685f1e-6492-4ac3-9c97-cb78028bbed9"
      },
      "outputs": [
        {
          "data": {
            "text/plain": [
              "watch_duration_minutes    44.340410\n",
              "completion_percentage     18.969088\n",
              "dtype: float64"
            ]
          },
          "execution_count": 31,
          "metadata": {},
          "output_type": "execute_result"
        }
      ],
      "source": [
        "# Desviación estándar\n",
        "df_normal_viewing[[\"watch_duration_minutes\", \"completion_percentage\"]].std()"
      ]
    },
    {
      "cell_type": "code",
      "execution_count": 32,
      "id": "187fbadd",
      "metadata": {
        "colab": {
          "base_uri": "https://localhost:8080/",
          "height": 147
        },
        "id": "187fbadd",
        "outputId": "a3185998-e338-4134-c3f0-146a2350d66d"
      },
      "outputs": [
        {
          "data": {
            "text/plain": [
              "watch_duration_minutes    0.549475\n",
              "completion_percentage     0.236638\n",
              "dtype: float64"
            ]
          },
          "execution_count": 32,
          "metadata": {},
          "output_type": "execute_result"
        }
      ],
      "source": [
        "# Coeficiente de variación\n",
        "df_normal_viewing[[\"watch_duration_minutes\", \"completion_percentage\"]].std() / df_normal_viewing[[\"watch_duration_minutes\", \"completion_percentage\"]].mean()"
      ]
    },
    {
      "cell_type": "code",
      "execution_count": 33,
      "id": "7880b32a",
      "metadata": {
        "colab": {
          "base_uri": "https://localhost:8080/",
          "height": 143
        },
        "id": "7880b32a",
        "outputId": "113ce141-53a9-4a04-92f3-6c78085db0c2"
      },
      "outputs": [
        {
          "data": {
            "text/html": [
              "<div>\n",
              "<style scoped>\n",
              "    .dataframe tbody tr th:only-of-type {\n",
              "        vertical-align: middle;\n",
              "    }\n",
              "\n",
              "    .dataframe tbody tr th {\n",
              "        vertical-align: top;\n",
              "    }\n",
              "\n",
              "    .dataframe thead th {\n",
              "        text-align: right;\n",
              "    }\n",
              "</style>\n",
              "<table border=\"1\" class=\"dataframe\">\n",
              "  <thead>\n",
              "    <tr style=\"text-align: right;\">\n",
              "      <th></th>\n",
              "      <th>watch_duration_minutes</th>\n",
              "      <th>completion_percentage</th>\n",
              "    </tr>\n",
              "  </thead>\n",
              "  <tbody>\n",
              "    <tr>\n",
              "      <th>0.25</th>\n",
              "      <td>40.0</td>\n",
              "      <td>68.2</td>\n",
              "    </tr>\n",
              "    <tr>\n",
              "      <th>0.50</th>\n",
              "      <td>81.0</td>\n",
              "      <td>85.2</td>\n",
              "    </tr>\n",
              "    <tr>\n",
              "      <th>0.75</th>\n",
              "      <td>116.0</td>\n",
              "      <td>96.3</td>\n",
              "    </tr>\n",
              "  </tbody>\n",
              "</table>\n",
              "</div>"
            ],
            "text/plain": [
              "      watch_duration_minutes  completion_percentage\n",
              "0.25                    40.0                   68.2\n",
              "0.50                    81.0                   85.2\n",
              "0.75                   116.0                   96.3"
            ]
          },
          "execution_count": 33,
          "metadata": {},
          "output_type": "execute_result"
        }
      ],
      "source": [
        "# Percentiles\n",
        "df_normal_viewing[[\"watch_duration_minutes\", \"completion_percentage\"]].quantile([0.25, 0.5, 0.75])"
      ]
    },
    {
      "cell_type": "code",
      "execution_count": 34,
      "id": "bfc36b1d",
      "metadata": {
        "colab": {
          "base_uri": "https://localhost:8080/"
        },
        "id": "bfc36b1d",
        "outputId": "4b87389f-532f-484f-d5b6-ddba535f0298"
      },
      "outputs": [
        {
          "name": "stdout",
          "output_type": "stream",
          "text": [
            "watch_duration_minutes    76.0\n",
            "completion_percentage     28.1\n",
            "dtype: float64\n"
          ]
        }
      ],
      "source": [
        "# IQR (Q3 - Q1)\n",
        "Q1 = df_normal_viewing[[\"watch_duration_minutes\", \"completion_percentage\"]].quantile(0.25)\n",
        "Q3 = df_normal_viewing[[\"watch_duration_minutes\", \"completion_percentage\"]].quantile(0.75)\n",
        "IQR = Q3 - Q1\n",
        "print(IQR)"
      ]
    },
    {
      "cell_type": "markdown",
      "id": "07b8109a",
      "metadata": {
        "id": "07b8109a"
      },
      "source": [
        "### New graphs without outliers"
      ]
    },
    {
      "cell_type": "markdown",
      "id": "9f226565",
      "metadata": {
        "id": "9f226565"
      },
      "source": [
        "##### watch_duration_minutes column"
      ]
    },
    {
      "cell_type": "code",
      "execution_count": 35,
      "id": "0d6175a4",
      "metadata": {
        "colab": {
          "base_uri": "https://localhost:8080/",
          "height": 959
        },
        "id": "0d6175a4",
        "outputId": "4cf5786e-3381-41c4-863f-acbd24ca0f7e"
      },
      "outputs": [
        {
          "data": {
            "image/png": "[encoded data removed]",
            "text/plain": [
              "<Figure size 1200x500 with 1 Axes>"
            ]
          },
          "metadata": {},
          "output_type": "display_data"
        },
        {
          "data": {
            "image/png": "[encoded data removed]",
            "text/plain": [
              "<Figure size 1200x500 with 1 Axes>"
            ]
          },
          "metadata": {},
          "output_type": "display_data"
        }
      ],
      "source": [
        "# Histograms to see distribution\n",
        "plt.figure(figsize=(12,5))\n",
        "\n",
        "plt.subplot(1,2,1)\n",
        "sns.histplot(df_normal_viewing['watch_duration_minutes'], bins=20, kde=True, color=\"skyblue\")\n",
        "plt.title(\"Distribution of duration in minutes\")\n",
        "\n",
        "plt.show()\n",
        "\n",
        "# Boxplots to detect outliers\n",
        "plt.figure(figsize=(12,5))\n",
        "\n",
        "plt.subplot(1,2,1)\n",
        "sns.boxplot(x=df_normal_viewing['watch_duration_minutes'], color=\"skyblue\")\n",
        "plt.title(\"Duration in minutes\")\n",
        "\n",
        "plt.show()"
      ]
    },
    {
      "cell_type": "markdown",
      "id": "e7172458",
      "metadata": {
        "id": "e7172458"
      },
      "source": [
        "#### completion_percentage column"
      ]
    },
    {
      "cell_type": "code",
      "execution_count": 36,
      "id": "f9a0f8e3",
      "metadata": {
        "colab": {
          "base_uri": "https://localhost:8080/",
          "height": 959
        },
        "id": "f9a0f8e3",
        "outputId": "ab3d5c5e-f512-499a-9c29-23c50ccc76af"
      },
      "outputs": [
        {
          "data": {
            "image/png": "[encoded data removed]",
            "text/plain": [
              "<Figure size 1200x500 with 1 Axes>"
            ]
          },
          "metadata": {},
          "output_type": "display_data"
        },
        {
          "data": {
            "image/png": "[encoded data removed]",
            "text/plain": [
              "<Figure size 1200x500 with 1 Axes>"
            ]
          },
          "metadata": {},
          "output_type": "display_data"
        }
      ],
      "source": [
        "# Histograms to see distribution\n",
        "plt.figure(figsize=(12,5))\n",
        "\n",
        "plt.subplot(1,2,2)\n",
        "sns.histplot(df_normal_viewing['completion_percentage'], bins=20, kde=True, color=\"purple\")\n",
        "plt.title(\"Completion percentage\")\n",
        "\n",
        "plt.show()\n",
        "\n",
        "# Boxplots to detect outliers\n",
        "plt.figure(figsize=(12,5))\n",
        "\n",
        "plt.subplot(1,2,2)\n",
        "sns.boxplot(x=df_normal_viewing['completion_percentage'], color=\"purple\")\n",
        "plt.title(\"Completion percentage\")\n",
        "\n",
        "plt.show()"
      ]
    },
    {
      "cell_type": "code",
      "execution_count": 37,
      "id": "0d509772",
      "metadata": {
        "colab": {
          "base_uri": "https://localhost:8080/"
        },
        "id": "0d509772",
        "outputId": "6fcfa619-8f5c-470c-e087-126b3c3c0973"
      },
      "outputs": [
        {
          "name": "stdout",
          "output_type": "stream",
          "text": [
            "\n",
            "No outliers according to the IQR method\n"
          ]
        }
      ],
      "source": [
        "# Check for any remaining values outside the limits\n",
        "col = \"completion_percentage\"\n",
        "\n",
        "aun_outliers = df_normal_viewing[(df_normal_viewing[col] < lower_bound) | (df_normal_viewing[col] > upper_bound)]\n",
        "if aun_outliers.empty:\n",
        "    print(\"\\nNo outliers according to the IQR method\")\n",
        "else:\n",
        "    print(\"\\n There are still outliers detected:\", aun_outliers.shape[0])"
      ]
    },
    {
      "cell_type": "markdown",
      "id": "1789f519",
      "metadata": {
        "id": "1789f519"
      },
      "source": [
        "The df_normal_viewing dataframe is now free of outliers, and the data can be used for its respective analysis. Furthermore, the df_viewing_outlier dataframe was saved, which contains only the rows that were considered outliers. These were not removed because they can provide valuable insight into the behavior of that sample."
      ]
    }
  ],
  "metadata": {
    "colab": {
      "provenance": []
    },
    "kernelspec": {
      "display_name": "Python 3",
      "language": "python",
      "name": "python3"
    },
    "language_info": {
      "codemirror_mode": {
        "name": "ipython",
        "version": 3
      },
      "file_extension": ".py",
      "mimetype": "text/x-python",
      "name": "python",
      "nbconvert_exporter": "python",
      "pygments_lexer": "ipython3",
      "version": "3.12.0"
    }
  },
  "nbformat": 4,
  "nbformat_minor": 5
}
