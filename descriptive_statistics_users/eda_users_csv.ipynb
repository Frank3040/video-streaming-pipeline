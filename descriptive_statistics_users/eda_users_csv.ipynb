{
  "cells": [
    {
      "cell_type": "code",
      "execution_count": 1,
      "id": "d1277bb8",
      "metadata": {
        "id": "d1277bb8"
      },
      "outputs": [],
      "source": [
        "import pandas as pd\n",
        "import numpy as np\n",
        "import matplotlib.pyplot as plt\n",
        "import seaborn as sns"
      ]
    },
    {
      "cell_type": "code",
      "execution_count": 2,
      "id": "00d265f7",
      "metadata": {
        "colab": {
          "base_uri": "https://localhost:8080/",
          "height": 73
        },
        "id": "00d265f7",
        "outputId": "43e736f0-3d18-49cf-c1cf-d4a2024f9290"
      },
      "outputs": [],
      "source": [
        "\n",
        "df = pd.read_csv('users.csv')"
      ]
    },
    {
      "cell_type": "code",
      "execution_count": 3,
      "id": "94aa04bf",
      "metadata": {
        "colab": {
          "base_uri": "https://localhost:8080/"
        },
        "id": "94aa04bf",
        "outputId": "3a33f0c6-a350-4636-887a-ecf57b74f604"
      },
      "outputs": [
        {
          "name": "stdout",
          "output_type": "stream",
          "text": [
            "(5000, 6)\n"
          ]
        }
      ],
      "source": [
        "print(df.shape)\n"
      ]
    },
    {
      "cell_type": "code",
      "execution_count": 4,
      "id": "16bc35a5",
      "metadata": {
        "colab": {
          "base_uri": "https://localhost:8080/"
        },
        "id": "16bc35a5",
        "outputId": "f29df486-ad6b-463d-af9d-3dba47a62360"
      },
      "outputs": [
        {
          "name": "stdout",
          "output_type": "stream",
          "text": [
            "  user_id  age    country subscription_type registration_date  \\\n",
            "0   U0001   21  Argentina             Basic        2022-10-02   \n",
            "1   U0002   44     Mexico          Standard        2022-09-30   \n",
            "2   U0003   20  Argentina          Standard        2023-01-24   \n",
            "3   U0004   39       Peru          Standard        2022-12-15   \n",
            "4   U0005   28   Colombia             Basic        2022-05-19   \n",
            "5   U0006   39   Colombia          Standard        2023-12-20   \n",
            "6   U0007   18   Colombia             Basic        2023-03-23   \n",
            "7   U0008   56   Colombia          Standard        2023-01-22   \n",
            "8   U0009   38     Mexico             Basic        2024-01-20   \n",
            "9   U0010   20   Colombia          Standard        2022-04-05   \n",
            "\n",
            "   total_watch_time_hours  \n",
            "0                    58.0  \n",
            "1                    75.3  \n",
            "2                   360.0  \n",
            "3                   513.0  \n",
            "4                   192.8  \n",
            "5                   156.2  \n",
            "6                   428.0  \n",
            "7                    47.8  \n",
            "8                   229.7  \n",
            "9                   444.7  \n"
          ]
        }
      ],
      "source": [
        "print(df.head(10))"
      ]
    },
    {
      "cell_type": "code",
      "execution_count": 5,
      "id": "f7d92292",
      "metadata": {
        "colab": {
          "base_uri": "https://localhost:8080/",
          "height": 210
        },
        "id": "f7d92292",
        "outputId": "1badb545-6d96-44e6-c843-dbcbdd777816"
      },
      "outputs": [
        {
          "data": {
            "text/plain": [
              "subscription_type\n",
              "Basic       2003\n",
              "Standard    1783\n",
              "Premium     1214\n",
              "Name: count, dtype: int64"
            ]
          },
          "execution_count": 5,
          "metadata": {},
          "output_type": "execute_result"
        }
      ],
      "source": [
        "#Unique values of the \"subscription_type\" column and their total count.\n",
        "df[\"subscription_type\"].value_counts()\n"
      ]
    },
    {
      "cell_type": "code",
      "execution_count": 6,
      "id": "354c8257",
      "metadata": {
        "colab": {
          "base_uri": "https://localhost:8080/",
          "height": 272
        },
        "id": "354c8257",
        "outputId": "d8eb709b-50a8-4e38-c39e-10a377abe988"
      },
      "outputs": [
        {
          "data": {
            "text/plain": [
              "country\n",
              "Mexico       1514\n",
              "Colombia     1190\n",
              "Argentina    1063\n",
              "Chile         755\n",
              "Peru          478\n",
              "Name: count, dtype: int64"
            ]
          },
          "execution_count": 6,
          "metadata": {},
          "output_type": "execute_result"
        }
      ],
      "source": [
        "#Unique values of the \"country\" column and their total count.\n",
        "df[\"country\"].value_counts()\n"
      ]
    },
    {
      "cell_type": "code",
      "execution_count": 7,
      "id": "c48416d3",
      "metadata": {
        "colab": {
          "base_uri": "https://localhost:8080/"
        },
        "id": "c48416d3",
        "outputId": "a45cb020-36fe-4d8f-94ef-cde93d3dcacb"
      },
      "outputs": [
        {
          "name": "stdout",
          "output_type": "stream",
          "text": [
            "age_group\n",
            "1-10 years        0\n",
            "11-20 years     317\n",
            "21-30 years    1035\n",
            "31-40 years    1008\n",
            "41-50 years    1062\n",
            "51-60 years    1033\n",
            "61-70 years     545\n",
            "Name: count, dtype: int64\n"
          ]
        }
      ],
      "source": [
        "# Define the 10-year intervals\n",
        "bins = range(0, df[\"age\"].max() + 10, 10)\n",
        "\n",
        "# Create the labels for the ranges\n",
        "labels = [f\"{i+1}-{i+10} years\" for i in bins[:-1]]\n",
        "\n",
        "# Group ages into intervals\n",
        "df[\"age_group\"] = pd.cut(df[\"age\"], bins=bins, labels=labels, right=True, include_lowest=True)\n",
        "\n",
        "# Count how many are in each group\n",
        "age_distribution = df[\"age_group\"].value_counts().sort_index()\n",
        "\n",
        "print(age_distribution)"
      ]
    },
    {
      "cell_type": "code",
      "execution_count": 8,
      "id": "3b1b44ca",
      "metadata": {
        "colab": {
          "base_uri": "https://localhost:8080/"
        },
        "id": "3b1b44ca",
        "outputId": "0d322182-c2b6-4787-e2bf-ae07e8d1718c"
      },
      "outputs": [
        {
          "name": "stdout",
          "output_type": "stream",
          "text": [
            "<class 'pandas.core.frame.DataFrame'>\n",
            "RangeIndex: 5000 entries, 0 to 4999\n",
            "Data columns (total 7 columns):\n",
            " #   Column                  Non-Null Count  Dtype   \n",
            "---  ------                  --------------  -----   \n",
            " 0   user_id                 5000 non-null   object  \n",
            " 1   age                     5000 non-null   int64   \n",
            " 2   country                 5000 non-null   object  \n",
            " 3   subscription_type       5000 non-null   object  \n",
            " 4   registration_date       5000 non-null   object  \n",
            " 5   total_watch_time_hours  5000 non-null   float64 \n",
            " 6   age_group               5000 non-null   category\n",
            "dtypes: category(1), float64(1), int64(1), object(4)\n",
            "memory usage: 239.7+ KB\n",
            "None\n"
          ]
        }
      ],
      "source": [
        "# Get information about df\n",
        "print(df.info())"
      ]
    },
    {
      "cell_type": "markdown",
      "id": "1f33a405",
      "metadata": {
        "id": "1f33a405"
      },
      "source": [
        "### 2\\. Handling Missing Values"
      ]
    },
    {
      "cell_type": "code",
      "execution_count": 9,
      "id": "b70069e2",
      "metadata": {
        "colab": {
          "base_uri": "https://localhost:8080/"
        },
        "id": "b70069e2",
        "outputId": "47dbaa89-7619-419e-bfef-720ea9de714c"
      },
      "outputs": [
        {
          "name": "stdout",
          "output_type": "stream",
          "text": [
            "user_id                   0\n",
            "age                       0\n",
            "country                   0\n",
            "subscription_type         0\n",
            "registration_date         0\n",
            "total_watch_time_hours    0\n",
            "age_group                 0\n",
            "dtype: int64\n"
          ]
        }
      ],
      "source": [
        "# Count the number of missing values per column\n",
        "print(df.isnull().sum())"
      ]
    },
    {
      "cell_type": "markdown",
      "id": "5a9d0084",
      "metadata": {
        "id": "5a9d0084"
      },
      "source": [
        "### 3\\. Dropping duplicate rows"
      ]
    },
    {
      "cell_type": "code",
      "execution_count": 10,
      "id": "d146a8be",
      "metadata": {
        "colab": {
          "base_uri": "https://localhost:8080/"
        },
        "id": "d146a8be",
        "outputId": "ebe48cc4-4d21-4feb-83f1-eab646877149"
      },
      "outputs": [
        {
          "name": "stdout",
          "output_type": "stream",
          "text": [
            "0\n"
          ]
        }
      ],
      "source": [
        "# Count the number of duplicate rows.\n",
        "print(df.duplicated().sum())\n"
      ]
    },
    {
      "cell_type": "markdown",
      "id": "fa874a2a",
      "metadata": {
        "id": "fa874a2a"
      },
      "source": [
        "### Central tendency"
      ]
    },
    {
      "cell_type": "code",
      "execution_count": 11,
      "id": "1dfc4e54",
      "metadata": {
        "colab": {
          "base_uri": "https://localhost:8080/",
          "height": 147
        },
        "id": "1dfc4e54",
        "outputId": "ffa4b660-1805-47bf-96cd-5e487d445337"
      },
      "outputs": [
        {
          "data": {
            "text/plain": [
              "age                        41.59100\n",
              "total_watch_time_hours    335.04138\n",
              "dtype: float64"
            ]
          },
          "execution_count": 11,
          "metadata": {},
          "output_type": "execute_result"
        }
      ],
      "source": [
        "# Mean\n",
        "df[[\"age\", \"total_watch_time_hours\"]].mean()\n"
      ]
    },
    {
      "cell_type": "code",
      "execution_count": 12,
      "id": "9405578d",
      "metadata": {
        "colab": {
          "base_uri": "https://localhost:8080/",
          "height": 147
        },
        "id": "9405578d",
        "outputId": "510f3b57-3a79-4f7b-882b-afff800b52e9"
      },
      "outputs": [
        {
          "data": {
            "text/plain": [
              "age                        42.00\n",
              "total_watch_time_hours    312.35\n",
              "dtype: float64"
            ]
          },
          "execution_count": 12,
          "metadata": {},
          "output_type": "execute_result"
        }
      ],
      "source": [
        "# Median\n",
        "df[[\"age\", \"total_watch_time_hours\"]].median()\n"
      ]
    },
    {
      "cell_type": "code",
      "execution_count": 13,
      "id": "524d2e42",
      "metadata": {
        "colab": {
          "base_uri": "https://localhost:8080/",
          "height": 81
        },
        "id": "524d2e42",
        "outputId": "c0dff254-965f-437f-dd34-be800045e49e"
      },
      "outputs": [
        {
          "data": {
            "text/html": [
              "<div>\n",
              "<style scoped>\n",
              "    .dataframe tbody tr th:only-of-type {\n",
              "        vertical-align: middle;\n",
              "    }\n",
              "\n",
              "    .dataframe tbody tr th {\n",
              "        vertical-align: top;\n",
              "    }\n",
              "\n",
              "    .dataframe thead th {\n",
              "        text-align: right;\n",
              "    }\n",
              "</style>\n",
              "<table border=\"1\" class=\"dataframe\">\n",
              "  <thead>\n",
              "    <tr style=\"text-align: right;\">\n",
              "      <th></th>\n",
              "      <th>age</th>\n",
              "      <th>total_watch_time_hours</th>\n",
              "    </tr>\n",
              "  </thead>\n",
              "  <tbody>\n",
              "    <tr>\n",
              "      <th>0</th>\n",
              "      <td>62</td>\n",
              "      <td>438.7</td>\n",
              "    </tr>\n",
              "  </tbody>\n",
              "</table>\n",
              "</div>"
            ],
            "text/plain": [
              "   age  total_watch_time_hours\n",
              "0   62                   438.7"
            ]
          },
          "execution_count": 13,
          "metadata": {},
          "output_type": "execute_result"
        }
      ],
      "source": [
        "# Mode\n",
        "df[[\"age\", \"total_watch_time_hours\"]].mode()\n"
      ]
    },
    {
      "cell_type": "markdown",
      "id": "4aa9a2dc",
      "metadata": {
        "id": "4aa9a2dc"
      },
      "source": [
        "### Dispersion measures calculation"
      ]
    },
    {
      "cell_type": "code",
      "execution_count": 14,
      "id": "f3e03d11",
      "metadata": {
        "colab": {
          "base_uri": "https://localhost:8080/",
          "height": 147
        },
        "id": "f3e03d11",
        "outputId": "f510686e-6e8c-4458-b925-50bf39d2a213"
      },
      "outputs": [
        {
          "data": {
            "text/plain": [
              "age                         47.0\n",
              "total_watch_time_hours    1083.3\n",
              "dtype: float64"
            ]
          },
          "execution_count": 14,
          "metadata": {},
          "output_type": "execute_result"
        }
      ],
      "source": [
        "# Rango (max - min)\n",
        "df[[\"age\", \"total_watch_time_hours\"]].max() - df[[\"age\", \"total_watch_time_hours\"]].min()\n"
      ]
    },
    {
      "cell_type": "code",
      "execution_count": 15,
      "id": "78bd906e",
      "metadata": {
        "colab": {
          "base_uri": "https://localhost:8080/",
          "height": 147
        },
        "id": "78bd906e",
        "outputId": "c5c8b980-879d-4108-b0a4-12ca1901363d"
      },
      "outputs": [
        {
          "data": {
            "text/plain": [
              "age                         193.982115\n",
              "total_watch_time_hours    48410.478289\n",
              "dtype: float64"
            ]
          },
          "execution_count": 15,
          "metadata": {},
          "output_type": "execute_result"
        }
      ],
      "source": [
        "# Varianza\n",
        "df[[\"age\", \"total_watch_time_hours\"]].var()\n"
      ]
    },
    {
      "cell_type": "code",
      "execution_count": 16,
      "id": "901f80d8",
      "metadata": {
        "colab": {
          "base_uri": "https://localhost:8080/",
          "height": 147
        },
        "id": "901f80d8",
        "outputId": "0113d73d-40c8-47c2-905b-3862f039163e"
      },
      "outputs": [
        {
          "data": {
            "text/plain": [
              "age                        13.927746\n",
              "total_watch_time_hours    220.023813\n",
              "dtype: float64"
            ]
          },
          "execution_count": 16,
          "metadata": {},
          "output_type": "execute_result"
        }
      ],
      "source": [
        "# Desviación estándar\n",
        "df[[\"age\", \"total_watch_time_hours\"]].std()\n"
      ]
    },
    {
      "cell_type": "code",
      "execution_count": 17,
      "id": "5d5bd758",
      "metadata": {
        "colab": {
          "base_uri": "https://localhost:8080/",
          "height": 147
        },
        "id": "5d5bd758",
        "outputId": "9cbda243-9f69-4b8b-9705-c4a4a17e96eb"
      },
      "outputs": [
        {
          "data": {
            "text/plain": [
              "age                       0.334874\n",
              "total_watch_time_hours    0.656706\n",
              "dtype: float64"
            ]
          },
          "execution_count": 17,
          "metadata": {},
          "output_type": "execute_result"
        }
      ],
      "source": [
        "# Coefficient of Variation \n",
        "df[[\"age\", \"total_watch_time_hours\"]].std() / df[[\"age\", \"total_watch_time_hours\"]].mean()\n"
      ]
    },
    {
      "cell_type": "code",
      "execution_count": 18,
      "id": "952a3543",
      "metadata": {
        "colab": {
          "base_uri": "https://localhost:8080/",
          "height": 143
        },
        "id": "952a3543",
        "outputId": "54d207e0-56e8-4fe3-a6ca-5d9f8ab8aa3b"
      },
      "outputs": [
        {
          "data": {
            "text/html": [
              "<div>\n",
              "<style scoped>\n",
              "    .dataframe tbody tr th:only-of-type {\n",
              "        vertical-align: middle;\n",
              "    }\n",
              "\n",
              "    .dataframe tbody tr th {\n",
              "        vertical-align: top;\n",
              "    }\n",
              "\n",
              "    .dataframe thead th {\n",
              "        text-align: right;\n",
              "    }\n",
              "</style>\n",
              "<table border=\"1\" class=\"dataframe\">\n",
              "  <thead>\n",
              "    <tr style=\"text-align: right;\">\n",
              "      <th></th>\n",
              "      <th>age</th>\n",
              "      <th>total_watch_time_hours</th>\n",
              "    </tr>\n",
              "  </thead>\n",
              "  <tbody>\n",
              "    <tr>\n",
              "      <th>0.25</th>\n",
              "      <td>30.0</td>\n",
              "      <td>163.90</td>\n",
              "    </tr>\n",
              "    <tr>\n",
              "      <th>0.50</th>\n",
              "      <td>42.0</td>\n",
              "      <td>312.35</td>\n",
              "    </tr>\n",
              "    <tr>\n",
              "      <th>0.75</th>\n",
              "      <td>54.0</td>\n",
              "      <td>455.40</td>\n",
              "    </tr>\n",
              "  </tbody>\n",
              "</table>\n",
              "</div>"
            ],
            "text/plain": [
              "       age  total_watch_time_hours\n",
              "0.25  30.0                  163.90\n",
              "0.50  42.0                  312.35\n",
              "0.75  54.0                  455.40"
            ]
          },
          "execution_count": 18,
          "metadata": {},
          "output_type": "execute_result"
        }
      ],
      "source": [
        "# Percentiles\n",
        "df[[\"age\", \"total_watch_time_hours\"]].quantile([0.25, 0.5, 0.75])\n"
      ]
    },
    {
      "cell_type": "code",
      "execution_count": 19,
      "id": "78df883a",
      "metadata": {
        "colab": {
          "base_uri": "https://localhost:8080/"
        },
        "id": "78df883a",
        "outputId": "c7fb2973-634f-4e5c-b9e6-6a608f940b8e"
      },
      "outputs": [
        {
          "name": "stdout",
          "output_type": "stream",
          "text": [
            "age                        24.0\n",
            "total_watch_time_hours    291.5\n",
            "dtype: float64\n"
          ]
        }
      ],
      "source": [
        "# IQR (Q3 - Q1)\n",
        "Q1 = df[[\"age\", \"total_watch_time_hours\"]].quantile(0.25)\n",
        "Q3 = df[[\"age\", \"total_watch_time_hours\"]].quantile(0.75)\n",
        "IQR = Q3 - Q1\n",
        "print(IQR)\n"
      ]
    },
    {
      "cell_type": "markdown",
      "id": "748e6f88",
      "metadata": {
        "id": "748e6f88"
      },
      "source": [
        "### Distribution analysis of key variables"
      ]
    },
    {
      "cell_type": "markdown",
      "id": "474dee28",
      "metadata": {
        "id": "474dee28"
      },
      "source": [
        "### age column"
      ]
    },
    {
      "cell_type": "code",
      "execution_count": 20,
      "id": "26c04353",
      "metadata": {
        "colab": {
          "base_uri": "https://localhost:8080/",
          "height": 957
        },
        "id": "26c04353",
        "outputId": "644b818d-af83-4542-94b9-8f45a99f206c"
      },
      "outputs": [
        {
          "data": {
            "image/png": "[encoded data removed]",
            "text/plain": [
              "<Figure size 1200x500 with 1 Axes>"
            ]
          },
          "metadata": {},
          "output_type": "display_data"
        },
        {
          "data": {
            "image/png": "[encoded data removed]",
            "text/plain": [
              "<Figure size 1200x500 with 1 Axes>"
            ]
          },
          "metadata": {},
          "output_type": "display_data"
        }
      ],
      "source": [
        "# Histograms to view distribution\n",
        "plt.figure(figsize=(12,5))\n",
        "\n",
        "plt.subplot(1,2,1)\n",
        "sns.histplot(df['age'], bins=20, kde=True, color=\"skyblue\")\n",
        "plt.title(\"Age Distribution\")\n",
        "\n",
        "plt.show()\n",
        "\n",
        "# Box plots to detect outliers\n",
        "plt.figure(figsize=(12,5))\n",
        "\n",
        "plt.subplot(1,2,1)\n",
        "sns.boxplot(x=df['age'], color=\"skyblue\")\n",
        "plt.title(\"Age\")\n",
        "\n",
        "plt.show()"
      ]
    },
    {
      "cell_type": "markdown",
      "id": "633cf2a9",
      "metadata": {},
      "source": [
        "As you can see in the boxplot, It hasn´t outliers "
      ]
    },
    {
      "cell_type": "markdown",
      "id": "399c32b6",
      "metadata": {
        "id": "399c32b6"
      },
      "source": [
        "### total_watch_time_hours column"
      ]
    },
    {
      "cell_type": "code",
      "execution_count": 21,
      "id": "b14c25c1",
      "metadata": {
        "colab": {
          "base_uri": "https://localhost:8080/",
          "height": 959
        },
        "id": "b14c25c1",
        "outputId": "5d70fad7-40b6-49ab-ce74-2d6ab73c023f"
      },
      "outputs": [
        {
          "data": {
            "image/png": "[encoded data removed]",
            "text/plain": [
              "<Figure size 1200x500 with 1 Axes>"
            ]
          },
          "metadata": {},
          "output_type": "display_data"
        },
        {
          "data": {
            "image/png": "[encoded data removed]",
            "text/plain": [
              "<Figure size 1200x500 with 1 Axes>"
            ]
          },
          "metadata": {},
          "output_type": "display_data"
        }
      ],
      "source": [
        "# Histograms to view distribution\n",
        "plt.figure(figsize=(12,5))\n",
        "\n",
        "plt.subplot(1,2,2)\n",
        "sns.histplot(df['total_watch_time_hours'], bins=20, kde=True, color=\"salmon\")\n",
        "plt.title(\"Distribution of total watch time in hours\")\n",
        "\n",
        "plt.show()\n",
        "\n",
        "# Box plots to detect outliers\n",
        "plt.figure(figsize=(12,5))\n",
        "\n",
        "plt.subplot(1,2,2)\n",
        "sns.boxplot(x=df['total_watch_time_hours'], color=\"salmon\")\n",
        "plt.title(\"Watch time\")\n",
        "\n",
        "plt.show()"
      ]
    },
    {
      "cell_type": "markdown",
      "id": "ad9cf2fd",
      "metadata": {},
      "source": [
        "As you can see, the boxplot show outliers after the limit of 900 hours. That's why is necessary separate them from this dataset"
      ]
    },
    {
      "cell_type": "markdown",
      "id": "69b73f4f",
      "metadata": {
        "id": "69b73f4f"
      },
      "source": [
        "### Outliers"
      ]
    },
    {
      "cell_type": "markdown",
      "id": "1909ff76",
      "metadata": {
        "id": "1909ff76"
      },
      "source": [
        "For this dataframe, we decided to separate the outliers from the **\"users.csv\"** file and create a new one with all the outliers and another without them. This was done to avoid deleting the outliers, as they could provide a good insight into the behavior of that part of the sample."
      ]
    },
    {
      "cell_type": "markdown",
      "id": "3253c349",
      "metadata": {
        "id": "3253c349"
      },
      "source": [
        "### Calculate Outliers using the \"total_watch_time_hours\" column"
      ]
    },
    {
      "cell_type": "code",
      "execution_count": 22,
      "id": "be305383",
      "metadata": {
        "colab": {
          "base_uri": "https://localhost:8080/"
        },
        "id": "be305383",
        "outputId": "4ff734d8-8f7f-432f-e159-ecf02c528956"
      },
      "outputs": [
        {
          "name": "stdout",
          "output_type": "stream",
          "text": [
            "Lower bound: -273.35\n",
            "Upper bound: 892.65\n",
            "Number of outliers: 120\n",
            "    user_id  age  total_watch_time_hours\n",
            "116   U0117   22                  1034.7\n",
            "157   U0158   22                  1018.9\n",
            "272   U0273   18                  1041.9\n",
            "286   U0287   22                   903.9\n",
            "306   U0307   47                   908.3\n",
            "318   U0319   26                  1061.9\n",
            "349   U0350   45                   995.2\n",
            "363   U0364   25                  1072.5\n",
            "381   U0382   39                   982.8\n",
            "393   U0394   44                   941.9\n",
            "458   U0459   28                  1050.0\n",
            "523   U0524   33                   952.0\n"
          ]
        }
      ],
      "source": [
        "# Calculate Q1 (25%) and Q3 (75%)\n",
        "Q1 = df[\"total_watch_time_hours\"].quantile(0.25)\n",
        "Q3 = df[\"total_watch_time_hours\"].quantile(0.75)\n",
        "IQR = Q3 - Q1\n",
        "\n",
        "# Define the limits to detect outliers\n",
        "lower_bound = Q1 - 1.5 * IQR\n",
        "upper_bound = Q3 + 1.5 * IQR\n",
        "\n",
        "print(\"Lower bound:\", lower_bound)\n",
        "print(\"Upper bound:\", upper_bound)\n",
        "\n",
        "# Filter the outliers\n",
        "outliers = df[(df[\"total_watch_time_hours\"] < lower_bound) |\n",
        "              (df[\"total_watch_time_hours\"] > upper_bound)]\n",
        "\n",
        "print(\"Number of outliers:\", outliers.shape[0])\n",
        "print(outliers[[\"user_id\", \"age\", \"total_watch_time_hours\"]].head(12))"
      ]
    },
    {
      "cell_type": "markdown",
      "id": "2c729929",
      "metadata": {
        "id": "2c729929"
      },
      "source": [
        "### Separating the dataframe into a set without outliers and a set with only outliers"
      ]
    },
    {
      "cell_type": "code",
      "execution_count": 23,
      "id": "c3965cd4",
      "metadata": {
        "colab": {
          "base_uri": "https://localhost:8080/"
        },
        "id": "c3965cd4",
        "outputId": "edf04ad0-c377-47f8-de48-5b9670a39a84"
      },
      "outputs": [
        {
          "name": "stdout",
          "output_type": "stream",
          "text": [
            "Total rows: 5000\n",
            "Normal: 4880\n",
            "Outliers: 120\n"
          ]
        }
      ],
      "source": [
        "# DataFrame with outliers\n",
        "df_outliers_users = df[(df[\"total_watch_time_hours\"] < lower_bound) |\n",
        "                 (df[\"total_watch_time_hours\"] > upper_bound)].copy()\n",
        "\n",
        "# DataFrame without outliers \n",
        "df_normal_users = df[(df[\"total_watch_time_hours\"] >= lower_bound) &\n",
        "               (df[\"total_watch_time_hours\"] <= upper_bound)].copy()\n",
        "\n",
        "print(\"Total rows:\", df.shape[0])\n",
        "print(\"Normal:\", df_normal_users.shape[0])\n",
        "print(\"Outliers:\", df_outliers_users.shape[0])"
      ]
    },
    {
      "cell_type": "code",
      "execution_count": 24,
      "id": "31a7a813",
      "metadata": {
        "colab": {
          "base_uri": "https://localhost:8080/"
        },
        "id": "31a7a813",
        "outputId": "4a0b7a87-136e-4820-b556-95572c56db55"
      },
      "outputs": [
        {
          "name": "stdout",
          "output_type": "stream",
          "text": [
            "\n",
            " Files saved as 'df_users_normal.csv' and 'df_users_outlier.csv'\n"
          ]
        }
      ],
      "source": [
        "# Save to current working directory\n",
        "df_normal_users.to_csv(\"df_users_normal.csv\", index=False)\n",
        "df_outliers_users.to_csv(\"df_users_outlier.csv\", index=False)\n",
        "\n",
        "print(\"\\n Files saved as 'df_users_normal.csv' and 'df_users_outlier.csv'\")"
      ]
    },
    {
      "cell_type": "markdown",
      "id": "5bcc971b",
      "metadata": {
        "id": "5bcc971b"
      },
      "source": [
        "#### Calculation of the median and standard desviation with the new dataset without outliers"
      ]
    },
    {
      "cell_type": "code",
      "execution_count": 25,
      "id": "55893fd5",
      "metadata": {
        "id": "55893fd5"
      },
      "outputs": [],
      "source": [
        "df_normal_users = pd.read_csv('df_users_normal.csv')"
      ]
    },
    {
      "cell_type": "markdown",
      "id": "92f9ac9d",
      "metadata": {
        "id": "92f9ac9d"
      },
      "source": [
        "##### Media central"
      ]
    },
    {
      "cell_type": "code",
      "execution_count": 26,
      "id": "cd916f4d",
      "metadata": {
        "colab": {
          "base_uri": "https://localhost:8080/",
          "height": 147
        },
        "id": "cd916f4d",
        "outputId": "433d2b33-3775-42a3-e7dc-f1605dd5cfad"
      },
      "outputs": [
        {
          "data": {
            "text/plain": [
              "age                        41.814549\n",
              "total_watch_time_hours    319.457971\n",
              "dtype: float64"
            ]
          },
          "execution_count": 26,
          "metadata": {},
          "output_type": "execute_result"
        }
      ],
      "source": [
        "# Mean\n",
        "df_normal_users[[\"age\", \"total_watch_time_hours\"]].mean()\n"
      ]
    },
    {
      "cell_type": "code",
      "execution_count": 27,
      "id": "b4d51b82",
      "metadata": {
        "colab": {
          "base_uri": "https://localhost:8080/",
          "height": 147
        },
        "id": "b4d51b82",
        "outputId": "ba5084b2-b715-47a8-b4a6-047cd2565b9c"
      },
      "outputs": [
        {
          "data": {
            "text/plain": [
              "age                        42.0\n",
              "total_watch_time_hours    304.8\n",
              "dtype: float64"
            ]
          },
          "execution_count": 27,
          "metadata": {},
          "output_type": "execute_result"
        }
      ],
      "source": [
        "# Median\n",
        "df_normal_users[[\"age\", \"total_watch_time_hours\"]].median()\n"
      ]
    },
    {
      "cell_type": "code",
      "execution_count": 28,
      "id": "b14b767e",
      "metadata": {
        "colab": {
          "base_uri": "https://localhost:8080/",
          "height": 81
        },
        "id": "b14b767e",
        "outputId": "116a7534-b748-436c-9bd7-325588c106a6"
      },
      "outputs": [
        {
          "data": {
            "text/html": [
              "<div>\n",
              "<style scoped>\n",
              "    .dataframe tbody tr th:only-of-type {\n",
              "        vertical-align: middle;\n",
              "    }\n",
              "\n",
              "    .dataframe tbody tr th {\n",
              "        vertical-align: top;\n",
              "    }\n",
              "\n",
              "    .dataframe thead th {\n",
              "        text-align: right;\n",
              "    }\n",
              "</style>\n",
              "<table border=\"1\" class=\"dataframe\">\n",
              "  <thead>\n",
              "    <tr style=\"text-align: right;\">\n",
              "      <th></th>\n",
              "      <th>age</th>\n",
              "      <th>total_watch_time_hours</th>\n",
              "    </tr>\n",
              "  </thead>\n",
              "  <tbody>\n",
              "    <tr>\n",
              "      <th>0</th>\n",
              "      <td>62</td>\n",
              "      <td>438.7</td>\n",
              "    </tr>\n",
              "  </tbody>\n",
              "</table>\n",
              "</div>"
            ],
            "text/plain": [
              "   age  total_watch_time_hours\n",
              "0   62                   438.7"
            ]
          },
          "execution_count": 28,
          "metadata": {},
          "output_type": "execute_result"
        }
      ],
      "source": [
        "# Mode\n",
        "df_normal_users[[\"age\", \"total_watch_time_hours\"]].mode()\n"
      ]
    },
    {
      "cell_type": "markdown",
      "id": "839945ca",
      "metadata": {
        "id": "839945ca"
      },
      "source": [
        "##### Dispersion measures calculation"
      ]
    },
    {
      "cell_type": "code",
      "execution_count": 29,
      "id": "c57b3e04",
      "metadata": {
        "colab": {
          "base_uri": "https://localhost:8080/",
          "height": 147
        },
        "id": "c57b3e04",
        "outputId": "95f0e22d-4541-4068-e0a3-bad890b78553"
      },
      "outputs": [
        {
          "data": {
            "text/plain": [
              "age                        47.0\n",
              "total_watch_time_hours    882.5\n",
              "dtype: float64"
            ]
          },
          "execution_count": 29,
          "metadata": {},
          "output_type": "execute_result"
        }
      ],
      "source": [
        "# Rango (max - min)\n",
        "df_normal_users[[\"age\", \"total_watch_time_hours\"]].max() - df_normal_users[[\"age\", \"total_watch_time_hours\"]].min()"
      ]
    },
    {
      "cell_type": "code",
      "execution_count": 30,
      "id": "9b349c7d",
      "metadata": {
        "colab": {
          "base_uri": "https://localhost:8080/",
          "height": 147
        },
        "id": "9b349c7d",
        "outputId": "108765b0-5755-4e75-98de-38622add8658"
      },
      "outputs": [
        {
          "data": {
            "text/plain": [
              "age                         193.754287\n",
              "total_watch_time_hours    39404.581088\n",
              "dtype: float64"
            ]
          },
          "execution_count": 30,
          "metadata": {},
          "output_type": "execute_result"
        }
      ],
      "source": [
        "# Varianza\n",
        "df_normal_users[[\"age\", \"total_watch_time_hours\"]].var()"
      ]
    },
    {
      "cell_type": "code",
      "execution_count": 31,
      "id": "7e86ac61",
      "metadata": {
        "colab": {
          "base_uri": "https://localhost:8080/",
          "height": 147
        },
        "id": "7e86ac61",
        "outputId": "f2a53337-aedb-4609-b8de-dd68e6349e1e"
      },
      "outputs": [
        {
          "data": {
            "text/plain": [
              "age                        13.919565\n",
              "total_watch_time_hours    198.505872\n",
              "dtype: float64"
            ]
          },
          "execution_count": 31,
          "metadata": {},
          "output_type": "execute_result"
        }
      ],
      "source": [
        "# Desviación estándar\n",
        "df_normal_users[[\"age\", \"total_watch_time_hours\"]].std()"
      ]
    },
    {
      "cell_type": "code",
      "execution_count": 32,
      "id": "26578669",
      "metadata": {
        "colab": {
          "base_uri": "https://localhost:8080/",
          "height": 147
        },
        "id": "26578669",
        "outputId": "29e38300-0d04-4258-dc7e-93df03872902"
      },
      "outputs": [
        {
          "data": {
            "text/plain": [
              "age                       0.332888\n",
              "total_watch_time_hours    0.621383\n",
              "dtype: float64"
            ]
          },
          "execution_count": 32,
          "metadata": {},
          "output_type": "execute_result"
        }
      ],
      "source": [
        "# Coeficiente de variación \n",
        "df_normal_users[[\"age\", \"total_watch_time_hours\"]].std() / df_normal_users[[\"age\", \"total_watch_time_hours\"]].mean()"
      ]
    },
    {
      "cell_type": "code",
      "execution_count": 33,
      "id": "b960e988",
      "metadata": {
        "colab": {
          "base_uri": "https://localhost:8080/",
          "height": 143
        },
        "id": "b960e988",
        "outputId": "9e38a280-839e-4b03-c326-dcb8ab8170da"
      },
      "outputs": [
        {
          "data": {
            "text/html": [
              "<div>\n",
              "<style scoped>\n",
              "    .dataframe tbody tr th:only-of-type {\n",
              "        vertical-align: middle;\n",
              "    }\n",
              "\n",
              "    .dataframe tbody tr th {\n",
              "        vertical-align: top;\n",
              "    }\n",
              "\n",
              "    .dataframe thead th {\n",
              "        text-align: right;\n",
              "    }\n",
              "</style>\n",
              "<table border=\"1\" class=\"dataframe\">\n",
              "  <thead>\n",
              "    <tr style=\"text-align: right;\">\n",
              "      <th></th>\n",
              "      <th>age</th>\n",
              "      <th>total_watch_time_hours</th>\n",
              "    </tr>\n",
              "  </thead>\n",
              "  <tbody>\n",
              "    <tr>\n",
              "      <th>0.25</th>\n",
              "      <td>30.0</td>\n",
              "      <td>163.90</td>\n",
              "    </tr>\n",
              "    <tr>\n",
              "      <th>0.50</th>\n",
              "      <td>42.0</td>\n",
              "      <td>312.35</td>\n",
              "    </tr>\n",
              "    <tr>\n",
              "      <th>0.75</th>\n",
              "      <td>54.0</td>\n",
              "      <td>455.40</td>\n",
              "    </tr>\n",
              "  </tbody>\n",
              "</table>\n",
              "</div>"
            ],
            "text/plain": [
              "       age  total_watch_time_hours\n",
              "0.25  30.0                  163.90\n",
              "0.50  42.0                  312.35\n",
              "0.75  54.0                  455.40"
            ]
          },
          "execution_count": 33,
          "metadata": {},
          "output_type": "execute_result"
        }
      ],
      "source": [
        "# Percentiles\n",
        "df[[\"age\", \"total_watch_time_hours\"]].quantile([0.25, 0.5, 0.75])"
      ]
    },
    {
      "cell_type": "code",
      "execution_count": 34,
      "id": "210d5bd7",
      "metadata": {
        "colab": {
          "base_uri": "https://localhost:8080/"
        },
        "id": "210d5bd7",
        "outputId": "3aa8523a-54fd-4e46-e00d-995de210e776"
      },
      "outputs": [
        {
          "name": "stdout",
          "output_type": "stream",
          "text": [
            "age                        24.000\n",
            "total_watch_time_hours    279.125\n",
            "dtype: float64\n"
          ]
        }
      ],
      "source": [
        "# IQR (Q3 - Q1)\n",
        "Q1 = df[[\"age\", \"total_watch_time_hours\"]].quantile(0.25)\n",
        "Q3 = df_normal_users[[\"age\", \"total_watch_time_hours\"]].quantile(0.75)\n",
        "IQR = Q3 - Q1\n",
        "print(IQR)"
      ]
    },
    {
      "cell_type": "markdown",
      "id": "fc973b25",
      "metadata": {
        "id": "fc973b25"
      },
      "source": [
        "### New Graphs without Outliers"
      ]
    },
    {
      "cell_type": "markdown",
      "id": "27f5a12b",
      "metadata": {
        "id": "27f5a12b"
      },
      "source": [
        "#### age column"
      ]
    },
    {
      "cell_type": "code",
      "execution_count": 35,
      "id": "3e71703e",
      "metadata": {
        "colab": {
          "base_uri": "https://localhost:8080/",
          "height": 957
        },
        "id": "3e71703e",
        "outputId": "8a3f17f7-be35-4b09-e3f3-726ab5441218"
      },
      "outputs": [
        {
          "data": {
            "image/png": "[encoded data removed]",
            "text/plain": [
              "<Figure size 1200x500 with 1 Axes>"
            ]
          },
          "metadata": {},
          "output_type": "display_data"
        },
        {
          "data": {
            "image/png": "[encoded data removed]",
            "text/plain": [
              "<Figure size 1200x500 with 1 Axes>"
            ]
          },
          "metadata": {},
          "output_type": "display_data"
        }
      ],
      "source": [
        "# Histograms to view distribution\n",
        "plt.figure(figsize=(12,5))\n",
        "\n",
        "plt.subplot(1,2,1)\n",
        "sns.histplot(df_normal_users['age'], bins=20, kde=True, color=\"skyblue\")\n",
        "plt.title(\"Age Distribution\")\n",
        "\n",
        "plt.show()\n",
        "\n",
        "# Box plots to detect outliers\n",
        "plt.figure(figsize=(12,5))\n",
        "\n",
        "plt.subplot(1,2,1)\n",
        "sns.boxplot(x=df_normal_users['age'], color=\"skyblue\")\n",
        "plt.title(\"Age\")\n",
        "\n",
        "plt.show()"
      ]
    },
    {
      "cell_type": "markdown",
      "id": "44165415",
      "metadata": {
        "id": "44165415"
      },
      "source": [
        "##### total_time_watch_hours column"
      ]
    },
    {
      "cell_type": "code",
      "execution_count": 36,
      "id": "f5d8b850",
      "metadata": {
        "colab": {
          "base_uri": "https://localhost:8080/",
          "height": 959
        },
        "id": "f5d8b850",
        "outputId": "a1c6fa84-991a-4334-86e8-22d47fc6d575"
      },
      "outputs": [
        {
          "data": {
            "image/png": "[encoded data removed]",
            "text/plain": [
              "<Figure size 1200x500 with 1 Axes>"
            ]
          },
          "metadata": {},
          "output_type": "display_data"
        },
        {
          "data": {
            "image/png": "[encoded data removed]",
            "text/plain": [
              "<Figure size 1200x500 with 1 Axes>"
            ]
          },
          "metadata": {},
          "output_type": "display_data"
        }
      ],
      "source": [
        "# Histograms to view distribution\n",
        "plt.figure(figsize=(12,5))\n",
        "\n",
        "plt.subplot(1,2,2)\n",
        "sns.histplot(df_normal_users['total_watch_time_hours'], bins=20, kde=True, color=\"salmon\")\n",
        "plt.title(\"Distribution of total watch time in hours\")\n",
        "\n",
        "plt.show()\n",
        "\n",
        "# Box plots to detect outliers\n",
        "plt.figure(figsize=(12,5))\n",
        "\n",
        "plt.subplot(1,2,2)\n",
        "sns.boxplot(x=df_normal_users['total_watch_time_hours'], color=\"salmon\")\n",
        "plt.title(\"Watch Time\")\n",
        "\n",
        "plt.show()"
      ]
    },
    {
      "cell_type": "code",
      "execution_count": 37,
      "id": "a5787712",
      "metadata": {
        "colab": {
          "base_uri": "https://localhost:8080/"
        },
        "id": "a5787712",
        "outputId": "5585e5e6-ab92-49ad-e369-1b2c29df64c6"
      },
      "outputs": [
        {
          "name": "stdout",
          "output_type": "stream",
          "text": [
            "\n",
            "No outliers according to the IQR method.\n"
          ]
        }
      ],
      "source": [
        "# Check if any values remain outside the limits\n",
        "col = \"total_watch_time_hours\"\n",
        "\n",
        "aun_outliers = df_normal_users[(df_normal_users[col] < lower_bound) | (df_normal_users[col] > upper_bound)]\n",
        "if aun_outliers.empty:\n",
        "    print(\"\\nNo outliers according to the IQR method.\")\n",
        "else:\n",
        "    print(\"\\nStill outliers detected:\", aun_outliers.shape[0])"
      ]
    },
    {
      "cell_type": "markdown",
      "id": "f475fb50",
      "metadata": {
        "id": "f475fb50"
      },
      "source": [
        "Now, the **`df_normal_users`** dataframe is free of outliers, and this data can be used for analysis. Furthermore, the **`df_users_outlier`** dataframe was saved, which contains only the rows that were considered outliers. These were not removed because they may provide valuable insights into how that specific sample behaves."
      ]
    }
  ],
  "metadata": {
    "colab": {
      "provenance": []
    },
    "kernelspec": {
      "display_name": "Python 3",
      "language": "python",
      "name": "python3"
    },
    "language_info": {
      "codemirror_mode": {
        "name": "ipython",
        "version": 3
      },
      "file_extension": ".py",
      "mimetype": "text/x-python",
      "name": "python",
      "nbconvert_exporter": "python",
      "pygments_lexer": "ipython3",
      "version": "3.12.0"
    }
  },
  "nbformat": 4,
  "nbformat_minor": 5
}
